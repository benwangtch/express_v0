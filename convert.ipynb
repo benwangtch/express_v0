{
 "cells": [
  {
   "cell_type": "code",
   "execution_count": 1,
   "metadata": {},
   "outputs": [],
   "source": [
    "import math\n",
    "# 假設 TWD97 座標為 (tx, ty)\n",
    "# 假設 WGS84 座標為 (x, y)\n",
    "# X97=X67+ 828，Y97=Y67- 207\n",
    "169784.98804265473,2543493.999829864\n",
    "tx = 169784.98804265473\n",
    "ty = 2543493.999829864\n",
    "y = ty * 0.00000899823754\n",
    "x = 121 + (tx - 250000) * 0.000008983152841195214 / math.cos(math.radians(y))"
   ]
  },
  {
   "cell_type": "code",
   "execution_count": 2,
   "metadata": {},
   "outputs": [
    {
     "name": "stdout",
     "output_type": "stream",
     "text": [
      "120.21783988882247 22.886963192033836\n"
     ]
    }
   ],
   "source": [
    "print(x, y)"
   ]
  },
  {
   "cell_type": "code",
   "execution_count": 3,
   "metadata": {},
   "outputs": [],
   "source": [
    "ty = y/0.00000899823754\n",
    "tx = (x-121)*math.cos(math.radians(y))/0.000008983152841195214 + 250000\n"
   ]
  },
  {
   "cell_type": "code",
   "execution_count": 4,
   "metadata": {},
   "outputs": [
    {
     "name": "stdout",
     "output_type": "stream",
     "text": [
      "169784.9880426546 2543493.999829864\n"
     ]
    }
   ],
   "source": [
    "print(tx,ty)"
   ]
  },
  {
   "cell_type": "code",
   "execution_count": 3,
   "metadata": {},
   "outputs": [
    {
     "name": "stdout",
     "output_type": "stream",
     "text": [
      "input lat/lon 25.0414391 121.5443622\n",
      "304930.0080665699 2770477.8984385445\n"
     ]
    }
   ],
   "source": [
    "from math import tan, sin, cos, radians\n",
    "\n",
    "class LatLonToTWD97(object):\n",
    "    \"\"\"This object provide method for converting lat/lon coordinate to TWD97\n",
    "    coordinate\n",
    "\n",
    "    the formula reference to\n",
    "    http://www.uwgb.edu/dutchs/UsefulData/UTMFormulas.htm (there is lots of typo)\n",
    "    http://www.offshorediver.com/software/utm/Converting UTM to Latitude and Longitude.doc\n",
    "\n",
    "    Parameters reference to\n",
    "    http://rskl.geog.ntu.edu.tw/team/gis/doc/ArcGIS/WGS84%20and%20TM2.htm\n",
    "    http://blog.minstrel.idv.tw/2004/06/taiwan-datum-parameter.html\n",
    "    \"\"\"\n",
    "\n",
    "    def __init__(self,\n",
    "        a = 6378137.0,\n",
    "        b = 6356752.314245,\n",
    "        long0 = radians(121),\n",
    "        k0 = 0.9999,\n",
    "        dx = 250000,\n",
    "    ):\n",
    "        # Equatorial radius\n",
    "        self.a = a\n",
    "        # Polar radius\n",
    "        self.b = b\n",
    "        # central meridian of zone\n",
    "        self.long0 = long0\n",
    "        # scale along long0\n",
    "        self.k0 = k0\n",
    "        # delta x in meter\n",
    "        self.dx = dx\n",
    "\n",
    "    def convert(self, lat, lon):\n",
    "        \"\"\"Convert lat lon to twd97\n",
    "\n",
    "        \"\"\"\n",
    "        a = self.a\n",
    "        b = self.b\n",
    "        long0 = self.long0\n",
    "        k0 = self.k0\n",
    "        dx = self.dx\n",
    "\n",
    "        e = (1-b**2/a**2)**0.5\n",
    "        e2 = e**2/(1-e**2)\n",
    "        n = (a-b)/(a+b)\n",
    "        nu = a/(1-(e**2)*(sin(lat)**2))**0.5\n",
    "        p = lon-long0\n",
    "\n",
    "        A = a*(1 - n + (5/4.0)*(n**2 - n**3) + (81/64.0)*(n**4  - n**5))\n",
    "        B = (3*a*n/2.0)*(1 - n + (7/8.0)*(n**2 - n**3) + (55/64.0)*(n**4 - n**5))\n",
    "        C = (15*a*(n**2)/16.0)*(1 - n + (3/4.0)*(n**2 - n**3))\n",
    "        D = (35*a*(n**3)/48.0)*(1 - n + (11/16.0)*(n**2 - n**3))\n",
    "        E = (315*a*(n**4)/51.0)*(1 - n)\n",
    "\n",
    "        S = A*lat - B*sin(2*lat) + C*sin(4*lat) - D*sin(6*lat) + E*sin(8*lat)\n",
    "\n",
    "        K1 = S*k0\n",
    "        K2 = k0*nu*sin(2*lat)/4.0\n",
    "        K3 = (k0*nu*sin(lat)*(cos(lat)**3)/24.0)*(5 - tan(lat)**2 + 9*e2*(cos(lat)**2) + 4*(e2**2)*(cos(lat)**4))\n",
    "\n",
    "        y = K1 + K2*(p**2) + K3*(p**4)\n",
    "\n",
    "        K4 = k0*nu*cos(lat)\n",
    "        K5 = (k0*nu*(cos(lat)**3)/6.0)*(1 - tan(lat)**2 + e2*(cos(lat)**2))\n",
    "\n",
    "        x = K4*p + K5*(p**3) + self.dx\n",
    "        return x, y\n",
    "if __name__ == '__main__':\n",
    "    from math import degrees\n",
    "\n",
    "    c = LatLonToTWD97()\n",
    "    lat = radians(float(25.0414391))\n",
    "    lon = radians(float(121.5443622))\n",
    "    print ('input lat/lon', degrees(lat), degrees(lon))\n",
    "    x, y = c.convert(lat, lon)\n",
    "    print (x, y)"
   ]
  },
  {
   "cell_type": "code",
   "execution_count": 7,
   "metadata": {},
   "outputs": [],
   "source": [
    "import math\n",
    "\n",
    "def TWD97ToLatLon(x, y):\n",
    "    dx = 250000\n",
    "    dy = 0\n",
    "    lon0 = radians(121)\n",
    "    k0 = 0.9999\n",
    "    a = 6378137.0\n",
    "    b = 6356752.314245\n",
    "    e = math.pow((1 - math.pow(b, 2) / math.pow(a, 2)), 0.5)\n",
    "\n",
    "    x -= dx\n",
    "    y -= dy\n",
    "\n",
    "    # Calculate the Meridional Arc\n",
    "    M = y / k0\n",
    "\n",
    "    # Calculate Footprint Latitude\n",
    "    mu = M / (a * (1.0 - math.pow(e, 2) / 4.0 - 3 * math.pow(e, 4) / 64.0 - 5 * math.pow(e, 6) / 256.0))\n",
    "    e1 = (1.0 - math.pow((1.0 - math.pow(e, 2)), 0.5)) / (1.0 + math.pow((1.0 - math.pow(e, 2)), 0.5))\n",
    "\n",
    "    J1 = (3 * e1 / 2 - 27 * math.pow(e1, 3) / 32.0)\n",
    "    J2 = (21 * math.pow(e1, 2) / 16 - 55 * math.pow(e1, 4) / 32.0)\n",
    "    J3 = (151 * math.pow(e1, 3) / 96.0)\n",
    "    J4 = (1097 * math.pow(e1, 4) / 512.0)\n",
    "\n",
    "    fp = mu + J1 * math.sin(2 * mu) + J2 * math.sin(4 * mu) + J3 * math.sin(6 * mu) + J4 * math.sin(8 * mu)\n",
    "\n",
    "    # Calculate Latitude and Longitude\n",
    "\n",
    "    e2 = math.pow((e * a / b), 2)\n",
    "    C1 = math.pow(e2 * math.cos(fp), 2)\n",
    "    T1 = math.pow(math.tan(fp), 2)\n",
    "    R1 = a * (1 - math.pow(e, 2)) / math.pow((1 - math.pow(e, 2) * math.pow(math.sin(fp), 2)), (3.0 / 2.0))\n",
    "    N1 = a / math.pow((1 - math.pow(e, 2) * math.pow(math.sin(fp), 2)), 0.5)\n",
    "\n",
    "    D = x / (N1 * k0)\n",
    "\n",
    "    # lat\n",
    "    Q1 = N1 * math.tan(fp) / R1\n",
    "    Q2 = (math.pow(D, 2) / 2.0)\n",
    "    Q3 = (5 + 3 * T1 + 10 * C1 - 4 * math.pow(C1, 2) - 9 * e2) * math.pow(D, 4) / 24.0\n",
    "    Q4 = (61 + 90 * T1 + 298 * C1 + 45 * math.pow(T1, 2) - 3 * math.pow(C1, 2) - 252 * e2) * math.pow(D, 6) / 720.0\n",
    "    lat = fp - Q1 * (Q2 - Q3 + Q4)\n",
    "\n",
    "    # long\n",
    "    Q5 = D\n",
    "    Q6 = (1 + 2 * T1 + C1) * math.pow(D, 3) / 6\n",
    "    Q7 = (5 - 2 * C1 + 28 * T1 - 3 * math.pow(C1, 2) + 8 * e2 + 24 * math.pow(T1, 2)) * math.pow(D, 5) / 120.0\n",
    "    lon = lon0 + (Q5 - Q6 + Q7) / math.cos(fp)\n",
    "\n",
    "    return [math.degrees(lat), math.degrees(lon)]\n",
    "    "
   ]
  },
  {
   "cell_type": "code",
   "execution_count": 8,
   "metadata": {},
   "outputs": [
    {
     "name": "stdout",
     "output_type": "stream",
     "text": [
      "[25.041439098241785, 121.54436223690483]\n"
     ]
    }
   ],
   "source": [
    "print(TWD97ToLatLon(304930.0080665699,2770477.8984385445))"
   ]
  }
 ],
 "metadata": {
  "kernelspec": {
   "display_name": "ai_hw1",
   "language": "python",
   "name": "python3"
  },
  "language_info": {
   "codemirror_mode": {
    "name": "ipython",
    "version": 3
   },
   "file_extension": ".py",
   "mimetype": "text/x-python",
   "name": "python",
   "nbconvert_exporter": "python",
   "pygments_lexer": "ipython3",
   "version": "3.9.18"
  },
  "orig_nbformat": 4
 },
 "nbformat": 4,
 "nbformat_minor": 2
}
