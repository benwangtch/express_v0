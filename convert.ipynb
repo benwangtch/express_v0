{
 "cells": [
  {
   "cell_type": "code",
   "execution_count": 7,
   "metadata": {},
   "outputs": [],
   "source": [
    "import math\n",
    "# 假設 TWD97 座標為 (tx, ty)\n",
    "# 假設 WGS84 座標為 (x, y)\n",
    "# X97=X67+ 828，Y97=Y67- 207\n",
    "169784.98804265473,2543493.999829864\n",
    "tx = 169784.98804265473\n",
    "ty = 2543493.999829864\n",
    "y = ty * 0.00000899823754\n",
    "x = 121 + (tx - 250000) * 0.000008983152841195214 / math.cos(math.radians(y))"
   ]
  },
  {
   "cell_type": "code",
   "execution_count": 8,
   "metadata": {},
   "outputs": [
    {
     "name": "stdout",
     "output_type": "stream",
     "text": [
      "120.21783988882247 22.886963192033836\n"
     ]
    }
   ],
   "source": [
    "print(x, y)"
   ]
  },
  {
   "cell_type": "code",
   "execution_count": 13,
   "metadata": {},
   "outputs": [],
   "source": [
    "ty = y/0.00000899823754\n",
    "tx = (x-121)*math.cos(math.radians(y))/0.000008983152841195214 + 250000\n"
   ]
  },
  {
   "cell_type": "code",
   "execution_count": 14,
   "metadata": {},
   "outputs": [
    {
     "name": "stdout",
     "output_type": "stream",
     "text": [
      "169784.9880426546 2543493.999829864\n"
     ]
    }
   ],
   "source": [
    "print(tx,ty)"
   ]
  },
  {
   "cell_type": "code",
   "execution_count": null,
   "metadata": {},
   "outputs": [],
   "source": []
  }
 ],
 "metadata": {
  "kernelspec": {
   "display_name": "ai_hw1",
   "language": "python",
   "name": "python3"
  },
  "language_info": {
   "codemirror_mode": {
    "name": "ipython",
    "version": 3
   },
   "file_extension": ".py",
   "mimetype": "text/x-python",
   "name": "python",
   "nbconvert_exporter": "python",
   "pygments_lexer": "ipython3",
   "version": "3.9.18"
  },
  "orig_nbformat": 4
 },
 "nbformat": 4,
 "nbformat_minor": 2
}
